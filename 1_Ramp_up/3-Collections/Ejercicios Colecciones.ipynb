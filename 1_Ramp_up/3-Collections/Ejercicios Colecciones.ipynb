{
 "cells": [
  {
   "cell_type": "markdown",
   "metadata": {},
   "source": [
    "![imagen](./img/ejercicios.png)"
   ]
  },
  {
   "cell_type": "markdown",
   "metadata": {},
   "source": [
    "## Ejercicio 1\n",
    "Dada la siguiente lista:\n",
    "> ```ejer_1 = [1,2,3,4,5]```\n",
    "\n",
    "Inviértela para que quede de la siguiente manera\n",
    "> ```ejer_1 = [5,4,3,2,1]```"
   ]
  },
  {
   "cell_type": "code",
   "execution_count": 1,
   "metadata": {},
   "outputs": [
    {
     "name": "stdout",
     "output_type": "stream",
     "text": [
      "[5, 4, 3, 2, 1]\n"
     ]
    }
   ],
   "source": []
  },
  {
   "cell_type": "markdown",
   "metadata": {},
   "source": [
    "## Ejercicio 2\n",
    "Eleva todos los elementos de la lista al cuadrado\n",
    "> ```ejer_2 = [1,2,3,4,5]```"
   ]
  },
  {
   "cell_type": "code",
   "execution_count": 2,
   "metadata": {},
   "outputs": [
    {
     "name": "stdout",
     "output_type": "stream",
     "text": [
      "[1, 4, 9, 16, 25]\n"
     ]
    }
   ],
   "source": []
  },
  {
   "cell_type": "markdown",
   "metadata": {},
   "source": [
    "## Ejercicio 3\n",
    "Crea una lista nueva con todas las combinaciones de las siguientes dos listas:\n",
    "> ```ejer_3_1 = [\"Hola\", \"amigo\"]```\n",
    ">\n",
    "> ```ejer_3_2 = [\"Que\", \"tal\"]```\n",
    "\n",
    "Obten el siguiente output:\n",
    "\n",
    "['Hola Que', 'Hola tal', 'amigo Que', 'amigo tal']"
   ]
  },
  {
   "cell_type": "code",
   "execution_count": 3,
   "metadata": {},
   "outputs": [
    {
     "name": "stdout",
     "output_type": "stream",
     "text": [
      "['Hola Que', 'Hola tal', 'amigo Que', 'amigo tal']\n"
     ]
    }
   ],
   "source": []
  },
  {
   "cell_type": "markdown",
   "metadata": {},
   "source": [
    "## Ejercicio 4\n",
    "Dada la siguiente lista, encuentra el índice del valor 45 y sustitúyelo por el 0\n",
    "> ```ejer_4 = [20, 47, 19, 29, 45, 67, 78, 90]```"
   ]
  },
  {
   "cell_type": "code",
   "execution_count": 4,
   "metadata": {},
   "outputs": [
    {
     "name": "stdout",
     "output_type": "stream",
     "text": [
      "[20, 47, 19, 29, 45, 67, 78, 90]\n",
      "[20, 47, 19, 29, 0, 67, 78, 90]\n"
     ]
    }
   ],
   "source": []
  },
  {
   "attachments": {},
   "cell_type": "markdown",
   "metadata": {},
   "source": [
    "## Ejercicio 5\n",
    "Dada la siguiente lista, elimina todos los valores iguales a 3\n",
    "> ```ejer_5 = [3, 20, 3, 47, 19, 3, 29, 45, 67, 78, 90, 3, 3]```\n",
    "\n",
    "Consejo: No intentes eliminar elementos sobre la lista que estás iterando. Haz una copia con `ejer_5.copy()`."
   ]
  },
  {
   "cell_type": "code",
   "execution_count": 2,
   "metadata": {},
   "outputs": [
    {
     "name": "stdout",
     "output_type": "stream",
     "text": [
      "3\n",
      "[20, 3, 47, 19, 3, 3, 29, 45, 67, 78, 90, 3, 3]\n",
      "20\n",
      "[20, 3, 47, 19, 3, 3, 29, 45, 67, 78, 90, 3, 3]\n",
      "3\n",
      "[20, 47, 19, 3, 3, 29, 45, 67, 78, 90, 3, 3]\n",
      "47\n",
      "[20, 47, 19, 3, 3, 29, 45, 67, 78, 90, 3, 3]\n",
      "19\n",
      "[20, 47, 19, 3, 3, 29, 45, 67, 78, 90, 3, 3]\n",
      "3\n",
      "[20, 47, 19, 3, 29, 45, 67, 78, 90, 3, 3]\n",
      "3\n",
      "[20, 47, 19, 29, 45, 67, 78, 90, 3, 3]\n",
      "29\n",
      "[20, 47, 19, 29, 45, 67, 78, 90, 3, 3]\n",
      "45\n",
      "[20, 47, 19, 29, 45, 67, 78, 90, 3, 3]\n",
      "67\n",
      "[20, 47, 19, 29, 45, 67, 78, 90, 3, 3]\n",
      "78\n",
      "[20, 47, 19, 29, 45, 67, 78, 90, 3, 3]\n",
      "90\n",
      "[20, 47, 19, 29, 45, 67, 78, 90, 3, 3]\n",
      "3\n",
      "[20, 47, 19, 29, 45, 67, 78, 90, 3]\n",
      "3\n",
      "[20, 47, 19, 29, 45, 67, 78, 90]\n",
      "[20, 47, 19, 29, 45, 67, 78, 90]\n"
     ]
    }
   ],
   "source": []
  },
  {
   "cell_type": "markdown",
   "metadata": {},
   "source": [
    "## Ejercicio 6\n",
    "1. Crea una tupla con 3 elementos\n",
    "2. Crea otra tupla con un elemento y comprueba su tipo\n",
    "3. Crea una tupla con elementos de diferentes tipos\n",
    "4. Imprime por pantalla el primer y ultimo elemento de la tupla del apartado 3. Usa `len` para el ultimo\n",
    "5. Añade un elemento a la tupla del apartado 3.\n",
    "6. Eliminar un elemento de la tupla del apartado 5, que se encuentre más o menos en la mitad.\n",
    "7. Convierte la tupla del apartado 5 en una lista"
   ]
  },
  {
   "cell_type": "code",
   "execution_count": 9,
   "metadata": {},
   "outputs": [
    {
     "name": "stdout",
     "output_type": "stream",
     "text": [
      "(1, 2, 3)\n",
      "(4,)\n",
      "<class 'tuple'>\n",
      "('a', 5, True, 7.0)\n",
      "a\n",
      "7.0\n",
      "('a', 5, True, 7.0, 8)\n",
      "('a', 5, 7.0, 8)\n",
      "['a', 5, True, 7.0, 8]\n"
     ]
    }
   ],
   "source": []
  },
  {
   "cell_type": "markdown",
   "metadata": {},
   "source": [
    "## Ejercicio 7\n",
    "Concatena todos los elementos de la tupla en un unico string. Para ello utiliza el metodo `.join()` de los Strings\n",
    "> ```ejer_7 = (\"cien\", \"cañones\", \"por\", \"banda\")```\n",
    "\n",
    "Resultado: `cien cañones por banda`"
   ]
  },
  {
   "cell_type": "code",
   "execution_count": 3,
   "metadata": {},
   "outputs": [
    {
     "name": "stdout",
     "output_type": "stream",
     "text": [
      "cien cañones por banda\n"
     ]
    }
   ],
   "source": []
  },
  {
   "cell_type": "markdown",
   "metadata": {},
   "source": [
    "## Ejercicio 8\n",
    "Obten el tercer elemento de la siguiente tupla, y el tercero empezando por la cola\n",
    "> ```ejer_8 = (3, 20, 3, 47, 19, 3, 29, 45, 67, 78, 90, 3, 3)```"
   ]
  },
  {
   "cell_type": "code",
   "execution_count": 4,
   "metadata": {},
   "outputs": [
    {
     "name": "stdout",
     "output_type": "stream",
     "text": [
      "3\n",
      "90\n"
     ]
    }
   ],
   "source": []
  },
  {
   "cell_type": "markdown",
   "metadata": {},
   "source": [
    "## Ejercicio 9\n",
    "1. ¿Cuántas veces se repite el 3 en la siguiente tupla?\n",
    "2. Crea una tupla nueva con los elementos desde la posicion 5 a la 10.\n",
    "3. ¿Cuántos elementos tiene la tupla `ejer_9`?\n",
    "> ```ejer_9 = (3, 20, 3, 47, 19, 3, 29, 45, 67, 78, 90, 3, 3, 5, 2, 4, 7, 9, 4, 2, 4, 3, 3, 4, 6, 7)```"
   ]
  },
  {
   "cell_type": "code",
   "execution_count": 6,
   "metadata": {},
   "outputs": [
    {
     "name": "stdout",
     "output_type": "stream",
     "text": [
      "7\n",
      "(19, 3, 29, 45, 67, 78)\n",
      "26\n"
     ]
    }
   ],
   "source": []
  },
  {
   "cell_type": "markdown",
   "metadata": {},
   "source": [
    "## Ejercicio 10\n",
    "Comprueba si el numero 60 esta en la tupla del ejercicio 9"
   ]
  },
  {
   "cell_type": "code",
   "execution_count": 7,
   "metadata": {},
   "outputs": [
    {
     "data": {
      "text/plain": [
       "False"
      ]
     },
     "execution_count": 7,
     "metadata": {},
     "output_type": "execute_result"
    }
   ],
   "source": [
    "\n"
   ]
  },
  {
   "cell_type": "markdown",
   "metadata": {},
   "source": [
    "## Ejercicio 11\n",
    "1. Convierte la tupla del apartado 10 en una lista\n",
    "2. Convierte la tupla del apartado 10 en un set\n",
    "3. Convierte la tupla del apartado 10 en un diccionario. Usa también los indices"
   ]
  },
  {
   "cell_type": "code",
   "execution_count": 8,
   "metadata": {},
   "outputs": [
    {
     "name": "stdout",
     "output_type": "stream",
     "text": [
      "[3, 20, 3, 47, 19, 3, 29, 45, 67, 78, 90, 3, 3, 5, 2, 4, 7, 9, 4, 2, 4, 3, 3, 4, 6, 7]\n",
      "{2, 3, 67, 5, 4, 7, 6, 9, 45, 78, 47, 19, 20, 90, 29}\n",
      "{0: 3, 1: 20, 2: 3, 3: 47, 4: 19, 5: 3, 6: 29, 7: 45, 8: 67, 9: 78, 10: 90, 11: 3, 12: 3, 13: 5, 14: 2, 15: 4, 16: 7, 17: 9, 18: 4, 19: 2, 20: 4, 21: 3, 22: 3, 23: 4, 24: 6, 25: 7}\n"
     ]
    }
   ],
   "source": []
  },
  {
   "cell_type": "markdown",
   "metadata": {},
   "source": [
    "## Ejercicio 12\n",
    "Convierte la siguiente tupla en un diccionario\n",
    "> ```ejer_12 = [(\"x\", 1), (\"x\", 2), (\"x\", 3), (\"y\", 1), (\"y\", 2), (\"z\", 1)]```\n",
    "\n",
    "TIP: Puedes usar dos variables de control en un bucle `for`. Una por cada valor de las tuplas."
   ]
  },
  {
   "cell_type": "code",
   "execution_count": 9,
   "metadata": {},
   "outputs": [
    {
     "name": "stdout",
     "output_type": "stream",
     "text": [
      "{'x': 3, 'y': 2, 'z': 1}\n"
     ]
    }
   ],
   "source": []
  },
  {
   "cell_type": "code",
   "execution_count": 10,
   "metadata": {},
   "outputs": [
    {
     "data": {
      "text/plain": [
       "{'x': 3, 'y': 2, 'z': 1}"
      ]
     },
     "execution_count": 10,
     "metadata": {},
     "output_type": "execute_result"
    }
   ],
   "source": []
  },
  {
   "cell_type": "code",
   "execution_count": 11,
   "metadata": {},
   "outputs": [
    {
     "data": {
      "text/plain": [
       "3"
      ]
     },
     "execution_count": 11,
     "metadata": {},
     "output_type": "execute_result"
    }
   ],
   "source": []
  },
  {
   "cell_type": "markdown",
   "metadata": {},
   "source": [
    "## Ejercicio 13\n",
    "1. Crea una lista ordenada ascendente con las claves del diccionario\n",
    "2. Crea otra lista ordenada descendente con los valores\n",
    "3. Añade una nueva clave/valor\n",
    "4. Busca la clave 2 dentro del diccionario\n",
    "5. Itera la clave y el valor del diccionario con un unico for\n",
    "> ```ejer_13 = {4:78, 2:98, 8:234, 5:29}```"
   ]
  },
  {
   "cell_type": "code",
   "execution_count": 12,
   "metadata": {},
   "outputs": [
    {
     "name": "stdout",
     "output_type": "stream",
     "text": [
      "[2, 4, 5, 8]\n",
      "[234, 98, 78, 29]\n",
      "{4: 78, 2: 98, 8: 234, 5: 29, 9: 65}\n",
      "True\n",
      "Clave: 4, Valor -> 78\n",
      "Clave: 2, Valor -> 98\n",
      "Clave: 8, Valor -> 234\n",
      "Clave: 5, Valor -> 29\n",
      "Clave: 9, Valor -> 65\n"
     ]
    }
   ],
   "source": []
  },
  {
   "cell_type": "markdown",
   "metadata": {},
   "source": [
    "## Ejercicio 14\n",
    "Junta ambos diccionarios. Para ello, utiliza `update`\n",
    "> ```ejer_14_1 = {1: 11, 2: 22}```\n",
    ">\n",
    "> ```ejer_14_2 = {3: 33, 4: 44}```"
   ]
  },
  {
   "cell_type": "code",
   "execution_count": 13,
   "metadata": {},
   "outputs": [
    {
     "name": "stdout",
     "output_type": "stream",
     "text": [
      "{1: 11, 2: 22, 3: 33, 4: 44}\n"
     ]
    }
   ],
   "source": []
  },
  {
   "cell_type": "markdown",
   "metadata": {},
   "source": [
    "## Ejercicio 15\n",
    "Suma todos los valores del dicionario\n",
    "> ```ejer_15 = {1: 11, 2: 22, 3: 33, 4: 44, 5: 55}```"
   ]
  },
  {
   "cell_type": "code",
   "execution_count": 14,
   "metadata": {},
   "outputs": [
    {
     "name": "stdout",
     "output_type": "stream",
     "text": [
      "165\n"
     ]
    }
   ],
   "source": []
  },
  {
   "cell_type": "markdown",
   "metadata": {},
   "source": [
    "## Ejercicio 16\n",
    "Multiplica todos los valores del diccionario\n",
    "> ```ejer_16 = {1: 11, 2: 22, 3: 33, 4: 44, 5: 55}```"
   ]
  },
  {
   "cell_type": "code",
   "execution_count": 24,
   "metadata": {},
   "outputs": [
    {
     "name": "stdout",
     "output_type": "stream",
     "text": [
      "19326120\n"
     ]
    }
   ],
   "source": []
  },
  {
   "cell_type": "markdown",
   "metadata": {},
   "source": [
    "## Ejercicio 17\n",
    "1. Crea un set de tres elementos\n",
    "2. Añade un cuarto\n",
    "3. Elimina el utlimo elemento añadido\n",
    "4. Elimina el elemento 10, si está presente. Usa `discard()`"
   ]
  },
  {
   "cell_type": "code",
   "execution_count": 16,
   "metadata": {},
   "outputs": [
    {
     "name": "stdout",
     "output_type": "stream",
     "text": [
      "{8, 2, 5}\n",
      "{8, 2, 5, 6}\n"
     ]
    }
   ],
   "source": []
  }
 ],
 "metadata": {
  "kernelspec": {
   "display_name": "Python 3.7.4 64-bit",
   "language": "python",
   "name": "python3"
  },
  "language_info": {
   "codemirror_mode": {
    "name": "ipython",
    "version": 3
   },
   "file_extension": ".py",
   "mimetype": "text/x-python",
   "name": "python",
   "nbconvert_exporter": "python",
   "pygments_lexer": "ipython3",
   "version": "3.7.4"
  },
  "vscode": {
   "interpreter": {
    "hash": "252189e587d1e2aeba4a06e91fa71896c7a7f6e22e918b9407c7cde4ef2d5985"
   }
  }
 },
 "nbformat": 4,
 "nbformat_minor": 4
}
